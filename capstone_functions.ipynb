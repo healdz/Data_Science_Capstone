{
 "cells": [
  {
   "cell_type": "markdown",
   "metadata": {},
   "source": [
    "# Preporcessing Functions:"
   ]
  },
  {
   "cell_type": "markdown",
   "metadata": {},
   "source": [
    "### The following functions are designed to serve as a preprocessing pipeline in order to extract 1km squared images of a given country (represented by a shapefile) and the corresponding radiance level of that region of the earth. This process is divided into three main steps applied to a single country or region in question: 1) Extracting the Radiance Level, 2) Extracting Sentinel Images, and 3) Mapping the Radiance levels to Satelite Images."
   ]
  },
  {
   "cell_type": "markdown",
   "metadata": {},
   "source": [
    "## 1) Extracting Radiance Level (From NOAA Lights at Night tiff)"
   ]
  },
  {
   "cell_type": "markdown",
   "metadata": {},
   "source": [
    "#### The NOAA Lights at Night tiff provides the radiance level (serving as a basic representation of energy consumption) for the entire globe over the course of a year. This data can be accessed at https://eogdata.mines.edu/download_dnb_composites.html and is segmented into 1/6th regions of the world. With the appropriate segment downloaded, to be of use to the scope of this project, it must be segmented down to the area of a specifc country or region of interest and converted to a CSV containing latitute, longitude and radiance level of a specific portion of the country or region of interest. The following functions perform these steps and aggregate the levels 1km squared regions with the latitude and longitude denoting the bottom left hand corner of the 1km squared region:"
   ]
  },
  {
   "cell_type": "code",
   "execution_count": 2,
   "metadata": {},
   "outputs": [],
   "source": [
    "def cut_raster_with_shape (tiff, shape, outfile):\n",
    "    '''This function takes a larger tiff file, a shapefile representing a boundary (of a country or region), and \n",
    "    returns a tiff file to the path denoted by 'outfile' contianing just the information from the original tiff within\n",
    "    the boundary of the shape file.'''\n",
    "    with fiona.open(shape, \"r\") as shapefile: # open the shape file \n",
    "        shapes = [feature[\"geometry\"] for feature in shapefile]\n",
    "        \n",
    "    with rasterio.open(tiff) as src: # open the tiff file\n",
    "        out_image, out_transform = rasterio.mask.mask(src, shapes, crop=True, nodata = -10000) #Mask the larger tiff file with the country shapefile replacing values outside the shapefile with -10,000\n",
    "        out_meta = src.meta\n",
    "        \n",
    "    out_meta.update({\"driver\": \"GTiff\",\n",
    "                 \"height\": out_image.shape[1],\n",
    "                 \"width\": out_image.shape[2],\n",
    "                 \"transform\": out_transform})\n",
    "    \n",
    "    with rasterio.open(outfile, \"w\", **out_meta) as dest: # write the masked tiff to the outfile.\n",
    "        dest.write(out_image)"
   ]
  },
  {
   "cell_type": "code",
   "execution_count": 3,
   "metadata": {},
   "outputs": [],
   "source": [
    "def raster_to_csv (filename):\n",
    "    '''This function takes a raster file (without the .tif ending) and returns the path to a csv written in the \n",
    "    same directory containing the XYZ values from the raster file (latitude, longitude and corresponding radiance level)'''\n",
    "    inDs = gdal.Open('{}.tif'.format(filename))\n",
    "    outDS = gdal.Translate('{}.xyz'.format(filename), inDs, format='XYZ')\n",
    "    os.rename('{}.xyz'.format(filename), '{}.csv'.format(filename))\n",
    "    \n",
    "    return (f'{filename}.csv')"
   ]
  },
  {
   "cell_type": "code",
   "execution_count": 4,
   "metadata": {},
   "outputs": [],
   "source": [
    "def pre_process_csv(df,df_bool = True):\n",
    "    '''This function takes a path to a csv file and returns a cleaned version limited only to the \n",
    "    land area of that region / country. (The CSV should be in the format Lon Lat Radiance as extraced \n",
    "    by raster_to_csv above.)\n",
    "    \n",
    "    If df_bool is false you are passing a file to be read aa well as preporcessed.'''\n",
    "\n",
    "    if df_bool is False:\n",
    "        df = pd.read_csv(path,header = None) # read a pandas df from a file name if df is not already passed in.\n",
    "    \n",
    "    df.columns = ['Lon','Lat','Radiance'] # rename columns\n",
    "    df['Radiance'].replace(-10000.0, np.nan, inplace=True) # Replace NoData values (set as -10,000 in cut raster with shape) with NaN and drop all NaN values.\n",
    "    df = df.dropna()\n",
    "    df['Radiance'] = df['Radiance'].apply(lambda row: max(0,row)) #make negative values 0\n",
    "    df.reset_index(drop = True,inplace = True)\n",
    "    \n",
    "    return df\n"
   ]
  },
  {
   "cell_type": "code",
   "execution_count": 17,
   "metadata": {},
   "outputs": [],
   "source": [
    "def is_outlier (row, df, n_sig = None):\n",
    "    '''This function deals with outliers in the radiance values of a data frame with columns Lon, Lat, Radiance.\n",
    "    A point is considered an outlier if it is greater than 100 or more than 3 standard deviations away from the \n",
    "    average radiance of a 1 km squared block surrounding the row in question'''\n",
    "    \n",
    "    if n_sig != None: # if a significance level is passed use that instead of 3 standard deviations to determine outliers.\n",
    "        thresh = df['Radiance'].std()*n_sig + df['Radiance'].mean()\n",
    "        if row[-1] >= thresh:\n",
    "            return False\n",
    "    \n",
    "    # calculate the mean and standard deviation of 1km squared regions surrounding the row in question. \n",
    "    square = df[(df['Lon'] > row[0] - .05) & (df['Lon'] < row[0] + .05) & \n",
    "               (df['Lat'] > row[1] - .05) & (df['Lat'] < row[1] +.05)]\n",
    "    mean = square.Radiance.mean()\n",
    "    stdev = square.Radiance.std()\n",
    "    \n",
    "    # if the radiance is more 3 sigma away from the mean of its tile then it is an outlier\n",
    "    if abs(row[-1] - mean) > stdev *3:\n",
    "        return False\n",
    "\n",
    "    # If not the above condition then the point is not an outlier and we keep it\n",
    "    else:\n",
    "        return True"
   ]
  },
  {
   "cell_type": "code",
   "execution_count": 7,
   "metadata": {},
   "outputs": [],
   "source": [
    "def remove_outliers (df,n_sig = None):\n",
    "    '''This function applies the is_outlier test defined above to each row in the radiance levels df and drop \n",
    "    any row that is returned as an outlier.'''\n",
    "    \n",
    "    df['Drop_Outlier'] = df.swifter.apply(lambda row: is_outlier(row, df,n_sig), axis = 1)\n",
    "    df_clean = df[df.Drop_Outlier]\n",
    "    df_clean = df_clean.drop(['Drop_Outlier'],axis = 1)\n",
    "    \n",
    "    return df_clean"
   ]
  },
  {
   "cell_type": "code",
   "execution_count": 8,
   "metadata": {},
   "outputs": [],
   "source": [
    "def round_down(number:float, decimals:int=1):\n",
    "    \"\"\"Returns a value rounded down to a specific number of decimal places (default is one decimal place)\"\"\"\n",
    "    \n",
    "    new_val = math.floor(number * (10**decimals)) / (10**decimals)\n",
    "    \n",
    "    return new_val"
   ]
  },
  {
   "cell_type": "code",
   "execution_count": 9,
   "metadata": {},
   "outputs": [],
   "source": [
    "def agg_radiance (df, agg_size):\n",
    "    '''This function takes a DataFrame with columns Lon, Lat, and Radiance (all of type float) and aggregates the \n",
    "    radiance column to regions of size agg_size in km squared (i.e. if you want to aggregate to 1 km squared enter\n",
    "    1, 10 for 10km squared and so forth) - The parameter agg_size only takes integers of the form 10^x.'''\n",
    "    \n",
    "    size_dict = {1: 2, 10: 1, 100: 0, 1000: -1}\n",
    "    new_df = df.sort_values('Lon',ascending = True)\n",
    "    new_df['Lon'] = new_df['Lon'].apply(lambda num: round_down(num,size_dict[agg_size]))\n",
    "    new_df['Lat'] = new_df['Lat'].apply(lambda num: round_down(num,size_dict[agg_size]))\n",
    "    new_df = new_df.groupby(['Lon','Lat'],as_index=False).mean()\n",
    "    \n",
    "    return new_df"
   ]
  },
  {
   "cell_type": "markdown",
   "metadata": {},
   "source": [
    "## 2) Extracting Sentinel Images (Implementing Sentinel Hub API)"
   ]
  },
  {
   "cell_type": "markdown",
   "metadata": {},
   "source": [
    "#### With the radiance levels extracted for a specific country, cleaned and aggregated to 1km squared regions we now need one image for every radiance level. To improve run time to extract these images, and given the use constraints of the sentinel hub (there is a cap on number of monthly image extractions) the following code will determine the coordinates of 10km squared regions of the country (covering all the 1km squared regions) that can later be segmented and mapped to the the radiance level df created in part 1."
   ]
  },
  {
   "cell_type": "code",
   "execution_count": 10,
   "metadata": {},
   "outputs": [],
   "source": [
    "def make_boxes (row, step = .0999999):\n",
    "    '''This function writes the coordinates of a region in wgs84 format in order to be passed to the sentinel hub API.\n",
    "    The API will use this coordinate representation to extract the appropriate satelite image. The step is defaulted to \n",
    "    create boxes of size 10km squared (adding or removing a leading decimal 0 will increase or decrease the area size \n",
    "    respectively.)'''\n",
    "    \n",
    "    box = [row[0],row[1], row[0]+step, row[1] + step]\n",
    "    \n",
    "    return box"
   ]
  },
  {
   "cell_type": "code",
   "execution_count": 11,
   "metadata": {},
   "outputs": [],
   "source": [
    "def get_boxes (df):\n",
    "    '''This function takes a df with columns Lon, Lat, and Radiance aggregated to a factor of 10 and aggregates \n",
    "    these radiance labels to size 10 km squared (maximum size you can download from sentinel api at 10m level)'''\n",
    "    \n",
    "    df_new = df.sort_values('Lon',ascending = True) # sort the radiance df\n",
    "    df_new['Lon'] = df_new['Lon'].apply(lambda num: round_down(num,1)) # round the lon down to represent the bottom left corner of the 10km squared region\n",
    "    df_new['Lat'] = df_new['Lat'].apply(lambda num: round_down(num,1)) # round the lat down to represent the bottom left corner of the 10km squared region\n",
    "    df_new = df_new.groupby(['Lon','Lat'],as_index=False).mean()\n",
    "    df_new['boxes'] = df_new.apply(lambda row: make_boxes(row), axis = 1) # create wgs84 boxes for each 10km squared region\n",
    "    \n",
    "    return df_new"
   ]
  },
  {
   "cell_type": "code",
   "execution_count": 12,
   "metadata": {},
   "outputs": [],
   "source": [
    "def get_sentinel_image (row, client_id, secret, res = 10):\n",
    "    '''This function takes a list representing a latitude longitude box of approximately size 10km squared (this\n",
    "    box should be a list of len 4) and a desired image resolution (10m, 20m or 60m with default 10m) in order to \n",
    "    return an array representing an image that corresponds to the lat lon box. '''\n",
    "    \n",
    "    config = SHConfig()\n",
    "    config.sh_client_id = client_id\n",
    "    config.sh_client_secret = secret\n",
    "    \n",
    "    # The below eval script defaults our image preferences from sentinel hub to visible light (Bands \"B02\", \"B03\", \"B04\")\n",
    "    evalscript_true_color = \"\"\"\n",
    "    //VERSION=3\n",
    "\n",
    "        function setup() {\n",
    "            return {\n",
    "                input: [{\n",
    "                    bands: [\"B02\", \"B03\", \"B04\"]\n",
    "                }],\n",
    "                output: {\n",
    "                    bands: 3\n",
    "                }\n",
    "            };\n",
    "        }\n",
    "\n",
    "        function evaluatePixel(sample) {\n",
    "            return [3.5*sample.B04, 3.5*sample.B03, 3.5*sample.B02];\n",
    "        }\n",
    "    \"\"\"\n",
    "\n",
    "    row_coords_wgs84 = row[-1]\n",
    "    row_bbox = BBox(bbox=row_coords_wgs84, crs=CRS.WGS84)\n",
    "    row_size = bbox_to_dimensions(row_bbox, resolution=res) #calculate the number of pixels requested based on area and resolution size.\n",
    "    if row_size[0] <= 2500 and row_size[1]<= 2500: # Sentinel Hub requires images extracted to be within this size.\n",
    "        request_true_color = SentinelHubRequest( #make a request to the sentinel hub API\n",
    "            evalscript=evalscript_true_color,\n",
    "            input_data=[\n",
    "                SentinelHubRequest.input_data(\n",
    "                    data_collection=DataCollection.SENTINEL2_L1C, #request level 1C images\n",
    "                    time_interval=('2019-01-01', '2019-12-31'), # From the calendar year of 2019\n",
    "                    mosaicking_order='leastCC' #choosing the images that have the least cloud cover.\n",
    "                 )\n",
    "             ],\n",
    "            responses=[\n",
    "                SentinelHubRequest.output_response('default', MimeType.PNG)\n",
    "            ],\n",
    "            bbox=row_bbox,\n",
    "            size=row_size,\n",
    "            config=config\n",
    "        )\n",
    "        return request_true_color.get_data()[0] # return the image\n",
    "    else:\n",
    "        print ('Region is too large to access, please limit image size and try again') #Raise an error if the region is too large\n",
    "        return None"
   ]
  },
  {
   "cell_type": "code",
   "execution_count": 13,
   "metadata": {},
   "outputs": [],
   "source": [
    "def map_sentinel_images (df, client_id, secret):\n",
    "    '''Apply the get_sentinel_image function to an entire dataframe and return that dataframe (dataframe should\n",
    "    be of columns Lon, Lat, Radiance, and Boxes). Client_id and secert are given by sentinel hub api.'''\n",
    "    \n",
    "    df['image'] = df.swifter.apply(lambda row: get_sentinel_image(row, client_id = client_id,\n",
    "                                                    secret = secret), axis = 1)\n",
    "    \n",
    "    return df"
   ]
  },
  {
   "cell_type": "code",
   "execution_count": 1,
   "metadata": {},
   "outputs": [],
   "source": [
    "def save_photos (df, directory, make = True):\n",
    "    '''This function will save the extracted satelite images corresponding to 10km squared regions, represented as \n",
    "    ndArrays, as jpeg photos in a specified directory. If make equals True a new directory will be made under the \n",
    "    path specified under directory.'''\n",
    "    \n",
    "    if  not os.path.isdir(directory):\n",
    "        os.mkdir(directory)\n",
    "    for i in range(len(df)):\n",
    "        lon = df['Lon'][i]\n",
    "        lat = df['Lat'][i]\n",
    "        rad = df['Radiance'][i]\n",
    "        im_label = f'{lon}_{lat}_{rad}.jpeg'\n",
    "        im = Image.fromarray(df['image'][i])\n",
    "        full_label = directory +'/'+im_label\n",
    "        im.save(directory +'/'+im_label)"
   ]
  },
  {
   "cell_type": "markdown",
   "metadata": {},
   "source": [
    "## 3) Map the Sentinel Images to Corresponding Radiance Levels"
   ]
  },
  {
   "cell_type": "markdown",
   "metadata": {},
   "source": [
    "#### For the training of the final neural network we want to have images representing approximately 1km squared regions of a country and the corresponding radiance level for that region. The following functions will take the 10km squared images extracted from sentinel hub and map a portion of each picture to its given radiance level leaving a final data set of images, radiance levels, and coordinate pairs representing the bottom left corner of the area. "
   ]
  },
  {
   "cell_type": "code",
   "execution_count": 14,
   "metadata": {},
   "outputs": [],
   "source": [
    "def map_image_to_labels (labels, images):\n",
    "    '''This function takes two dataframes: Labels should be a dataframe with columns Lon Lat and Radiance (as given by\n",
    "    agg_radiance) while images should contain Lon, Lat, Radiance, boxes, and image (as given by map_sentinel_images). \n",
    "    This function will map the large images contained in the images dataframe to each class label in labels contained \n",
    "    within the geographical bounds of that larger image.'''\n",
    "    \n",
    "    # Write a string representation of the larger 10km squared region that each 1km squared region should belong too.\n",
    "    labels = labels.copy()\n",
    "    labels.index = labels.apply(lambda row: str(round_down(row[0], 1)) + \" \" + str(round_down(row[1], 1)), axis = 1)\n",
    "    \n",
    "    labels['image_large'] = np.nan\n",
    "    \n",
    "    # Using the strings as keys a large 10km squared image is mapped to each radiance level that exists within its bounds\n",
    "    image_dict = {}\n",
    "    for i in range(len(images)):\n",
    "        index = str(images['Lon'][i]) + \" \" + str(images['Lat'][i])\n",
    "        key = images.index[i]\n",
    "        labels['image_large'][index] = key\n",
    "        image_dict[key] = images['image'][i]\n",
    "        \n",
    "    labels['image_large'] = labels['image_large'].map(image_dict, na_action='ignore') \n",
    "    \n",
    "    labels.reset_index(level=0, inplace=True)\n",
    "    \n",
    "    return labels"
   ]
  },
  {
   "cell_type": "code",
   "execution_count": 15,
   "metadata": {},
   "outputs": [],
   "source": [
    "def extract_image (row):\n",
    "    '''This function takes a row and proportionally maps the radiance level to a specific portion of a larger image\n",
    "    it is assocaited with (from map_images_to_labesl) based on latitude and longitude'''\n",
    "    \n",
    "    # Extract the image from the row and find its shape\n",
    "    img = row[4]\n",
    "    img_shp = img.shape\n",
    "    \n",
    "    # Determine the wanted lon and lat of the 1km squared region\n",
    "    tile = row[0]\n",
    "    tile_lon = float(tile.split(\" \")[0])\n",
    "    tile_lat = float(tile.split(\" \")[1])\n",
    "\n",
    "    lon = row[1]\n",
    "    lat = row[2]\n",
    "    \n",
    "    # Find the proportional location of the lon and lat in terms of pixels of the larger image\n",
    "    lon_loc = round((lon - tile_lon) *10000)\n",
    "    lat_loc = round((lat - tile_lat) *10000)\n",
    "\n",
    "    # 1km squared will be approximately 1/10th of the larger image so find this step from the locs found above.\n",
    "    lon_step = (.1*(img_shp[1]))\n",
    "    lat_step = (.1*(img_shp[0]))\n",
    "    \n",
    "    lon_prop = (lon_loc//100)\n",
    "    lat_prop = (lat_loc//100)\n",
    "\n",
    "    # Use the above info to find the bottom left corner (in terms of NDarray Indices) within the larger image\n",
    "    lon_index_bottom = round(lon_step*lon_prop)\n",
    "    lat_index_top = img_shp[0] - math.floor(lat_step*lat_prop)\n",
    "\n",
    "    # If the desired image is the last edge (i.e. right hand side of the photo) take everything up to the edge of the larger image.\n",
    "    if lon_prop != 9:\n",
    "        lon_index_top = round(lon_index_bottom + lon_step)\n",
    "    else: \n",
    "        lon_index_top = round(lon_index_bottom + lon_step) +1\n",
    "        \n",
    "    lat_index_bottom = math.floor(lat_index_top - lat_step)\n",
    "\n",
    "    # If the image is a 3d array (lon, lat, pixel) then extract the appropriate 1km squared image. Otherwise return NaN (this deals with special cases encountered with sentinel hub api)\n",
    "    if len(img_shp) == 3:\n",
    "        mapped_img = img[lat_index_bottom: lat_index_top, lon_index_bottom: lon_index_top]\n",
    "        return mapped_img\n",
    "    else:\n",
    "        return None\n"
   ]
  },
  {
   "cell_type": "code",
   "execution_count": null,
   "metadata": {},
   "outputs": [],
   "source": []
  },
  {
   "cell_type": "markdown",
   "metadata": {},
   "source": [
    "## 4) Read in Image / Labels for use:"
   ]
  },
  {
   "cell_type": "markdown",
   "metadata": {},
   "source": [
    "#### With the computational requirements of the above preporcessing pipeline relatively large, it is a good idea to save the extracted images (using save photos above). The following functions convert these saved JPEG photos back into a a pandas df containing the image (as an NDarray), coordinate pair, and radiance level of each photo in order to be used in the Neural Network."
   ]
  },
  {
   "cell_type": "code",
   "execution_count": 16,
   "metadata": {},
   "outputs": [],
   "source": [
    "def extract_info_from_image_label (row):\n",
    "    row = np.array(row)\n",
    "    img = row[0][:-5]\n",
    "    img = img.split('/')[-1]\n",
    "    row_out = [float(img.split('_')[0]),float(img.split('_')[1]),float(img.split('_')[2])]\n",
    "    if len(row_out) == 3:\n",
    "        return pd.Series([row_out[0],row_out[1],row_out[2]])\n",
    "    else:\n",
    "        return(np.nan,np.nan,np.nan)"
   ]
  },
  {
   "cell_type": "code",
   "execution_count": 18,
   "metadata": {},
   "outputs": [],
   "source": [
    "def photo_df (path):\n",
    "    if  os.path.isdir(path):\n",
    "        image_labels = [f'{path}/{f}' for f in os.listdir(path) \n",
    "                        if os.path.splitext(f)[-1] == '.jpeg']\n",
    "\n",
    "        data = pd.DataFrame(image_labels, columns = ['image_label'])\n",
    "\n",
    "        data[['Lon','Lat','Radiance']] = data.apply(lambda row: \n",
    "                                extract_info_from_image_label(row), axis = 1)\n",
    "\n",
    "        return(data)\n",
    "    else:\n",
    "        print(\"Directory Not Found! Please enter a valid directory.\")\n",
    "        return None\n",
    "        "
   ]
  },
  {
   "cell_type": "code",
   "execution_count": null,
   "metadata": {},
   "outputs": [],
   "source": [
    "# Required imports for all of the above functions: \n",
    "# import pandas as pd\n",
    "# import numpy as np\n",
    "# import requests\n",
    "# from requests.auth import HTTPBasicAuth\n",
    "# from sentinelhub import MimeType, CRS, BBox, SentinelHubRequest, SentinelHubDownloadClient, \\\n",
    "#     DataCollection, bbox_to_dimensions, DownloadRequest, SentinelHubBatch\n",
    "# import os\n",
    "# import datetime\n",
    "# import matplotlib.pyplot as plt\n",
    "# from sentinelhub import SHConfig\n",
    "# from datetime import datetime\n",
    "# import math\n",
    "# import re, ast\n",
    "# import struct\n",
    "# import csv\n",
    "# import gdal\n",
    "# import fiona\n",
    "# import rasterio\n",
    "# import rasterio.mask\n",
    "# import swifter\n",
    "# from PIL import Image"
   ]
  }
 ],
 "metadata": {
  "kernelspec": {
   "display_name": "Python 3",
   "language": "python",
   "name": "python3"
  },
  "language_info": {
   "codemirror_mode": {
    "name": "ipython",
    "version": 3
   },
   "file_extension": ".py",
   "mimetype": "text/x-python",
   "name": "python",
   "nbconvert_exporter": "python",
   "pygments_lexer": "ipython3",
   "version": "3.8.2"
  }
 },
 "nbformat": 4,
 "nbformat_minor": 4
}
